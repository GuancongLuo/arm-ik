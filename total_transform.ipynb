{
 "cells": [
  {
   "cell_type": "code",
   "execution_count": 1,
   "metadata": {
    "collapsed": true
   },
   "outputs": [],
   "source": [
    "from sympy import symbols, cos, sin, pi, simplify, pprint, tan, expand_trig, sqrt, trigsimp, atan2\n",
    "from sympy.matrices import Matrix"
   ]
  },
  {
   "cell_type": "code",
   "execution_count": 2,
   "metadata": {
    "collapsed": true
   },
   "outputs": [],
   "source": [
    "# rotation matrices in x, y, z axes\n",
    "\n",
    "def rotx(q):\n",
    "\n",
    "  sq, cq = sin(q), cos(q)\n",
    "\n",
    "  r = Matrix([\n",
    "    [1., 0., 0.],\n",
    "    [0., cq,-sq],\n",
    "    [0., sq, cq]\n",
    "  ])\n",
    "    \n",
    "  return r\n",
    "\n",
    "\n",
    "def roty(q):\n",
    "\n",
    "  sq, cq = sin(q), cos(q)\n",
    "\n",
    "  r = Matrix([\n",
    "    [ cq, 0., sq],\n",
    "    [ 0., 1., 0.],\n",
    "    [-sq, 0., cq]\n",
    "  ])\n",
    "    \n",
    "  return r\n",
    "\n",
    "\n",
    "def rotz(q):\n",
    "\n",
    "  sq, cq = sin(q), cos(q)\n",
    "\n",
    "  r = Matrix([\n",
    "    [cq,-sq, 0.],\n",
    "    [sq, cq, 0.],\n",
    "    [0., 0., 1.]\n",
    "  ])\n",
    "    \n",
    "  return r"
   ]
  },
  {
   "cell_type": "code",
   "execution_count": 10,
   "metadata": {},
   "outputs": [
    {
     "name": "stdout",
     "output_type": "stream",
     "text": [
      "Matrix([\n",
      "[1.0*cos(pitch)*cos(yaw), sin(pitch)*sin(roll)*cos(yaw) - 1.0*sin(yaw)*cos(roll), sin(pitch)*cos(roll)*cos(yaw) + 1.0*sin(roll)*sin(yaw), px],\n",
      "[1.0*sin(yaw)*cos(pitch), sin(pitch)*sin(roll)*sin(yaw) + 1.0*cos(roll)*cos(yaw), sin(pitch)*sin(yaw)*cos(roll) - 1.0*sin(roll)*cos(yaw), py],\n",
      "[        -1.0*sin(pitch),                               1.0*sin(roll)*cos(pitch),                               1.0*cos(pitch)*cos(roll), pz],\n",
      "[                      0,                                                      0,                                                      0,  1]])\n"
     ]
    }
   ],
   "source": [
    "roll, pitch, yaw = symbols('roll pitch yaw', real = True)\n",
    "px, py, pz = symbols('px py pz', real = True)\n",
    "\n",
    "R = rotz(yaw) * roty(pitch) * rotx(roll)\n",
    "T = Matrix([\n",
    "  [R[0, 0], R[0, 1], R[0, 2], px],\n",
    "  [R[1, 0], R[1, 1], R[1, 2], py],\n",
    "  [R[2, 0], R[2, 1], R[2, 2], pz],\n",
    "  [0, 0, 0, 1]\n",
    "])\n",
    "\n",
    "print(simplify(trigsimp(T)))"
   ]
  },
  {
   "cell_type": "code",
   "execution_count": 11,
   "metadata": {},
   "outputs": [
    {
     "name": "stdout",
     "output_type": "stream",
     "text": [
      "Matrix([\n",
      "[1.0*sin(pitch)*cos(roll)*cos(yaw) + 1.0*sin(roll)*sin(yaw), -1.0*sin(pitch)*sin(roll)*cos(yaw) + 1.0*sin(yaw)*cos(roll), 1.0*cos(pitch)*cos(yaw), px],\n",
      "[1.0*sin(pitch)*sin(yaw)*cos(roll) - 1.0*sin(roll)*cos(yaw), -1.0*sin(pitch)*sin(roll)*sin(yaw) - 1.0*cos(roll)*cos(yaw), 1.0*sin(yaw)*cos(pitch), py],\n",
      "[                                  1.0*cos(pitch)*cos(roll),                                   -1.0*sin(roll)*cos(pitch),         -1.0*sin(pitch), pz],\n",
      "[                                                         0,                                                           0,                       0,  1]])\n"
     ]
    }
   ],
   "source": [
    "roll, pitch, yaw = symbols('roll pitch yaw', real = True)\n",
    "px, py, pz = symbols('px py pz', real = True)\n",
    "\n",
    "R = rotz(yaw) * roty(pitch) * rotx(roll) * rotz(pi) * roty(-pi/2)\n",
    "T = Matrix([\n",
    "  [R[0, 0], R[0, 1], R[0, 2], px],\n",
    "  [R[1, 0], R[1, 1], R[1, 2], py],\n",
    "  [R[2, 0], R[2, 1], R[2, 2], pz],\n",
    "  [0, 0, 0, 1]\n",
    "])\n",
    "\n",
    "print(simplify(trigsimp(T)))"
   ]
  },
  {
   "cell_type": "code",
   "execution_count": null,
   "metadata": {
    "collapsed": true
   },
   "outputs": [],
   "source": []
  }
 ],
 "metadata": {
  "kernelspec": {
   "display_name": "Python 3",
   "language": "python",
   "name": "python3"
  },
  "language_info": {
   "codemirror_mode": {
    "name": "ipython",
    "version": 3
   },
   "file_extension": ".py",
   "mimetype": "text/x-python",
   "name": "python",
   "nbconvert_exporter": "python",
   "pygments_lexer": "ipython3",
   "version": "3.5.2"
  },
  "widgets": {
   "state": {},
   "version": "1.1.2"
  }
 },
 "nbformat": 4,
 "nbformat_minor": 2
}
